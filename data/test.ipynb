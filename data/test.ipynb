{
 "cells": [
  {
   "cell_type": "code",
   "execution_count": 208,
   "metadata": {},
   "outputs": [],
   "source": [
    "import re\n",
    "import numpy as np\n",
    "import pandas as pd"
   ]
  },
  {
   "cell_type": "code",
   "execution_count": 209,
   "metadata": {},
   "outputs": [
    {
     "data": {
      "text/plain": [
       "'FR'"
      ]
     },
     "execution_count": 209,
     "metadata": {},
     "output_type": "execute_result"
    }
   ],
   "source": [
    "filename = 'airbnb-listings-FR'\n",
    "data = pd.read_csv(filename+'.csv', delimiter=';', decimal='.', low_memory=False)\n",
    "COUNTRY_CODE = data['Country Code'][0]\n",
    "COUNTRY_CODE"
   ]
  },
  {
   "cell_type": "code",
   "execution_count": 210,
   "metadata": {},
   "outputs": [
    {
     "name": "stdout",
     "output_type": "stream",
     "text": [
      "<class 'pandas.core.frame.DataFrame'>\n",
      "RangeIndex: 56562 entries, 0 to 56561\n",
      "Data columns (total 89 columns):\n",
      " #   Column                          Non-Null Count  Dtype  \n",
      "---  ------                          --------------  -----  \n",
      " 0   ID                              56562 non-null  int64  \n",
      " 1   Listing Url                     56562 non-null  object \n",
      " 2   Scrape ID                       56562 non-null  int64  \n",
      " 3   Last Scraped                    56562 non-null  object \n",
      " 4   Name                            56559 non-null  object \n",
      " 5   Summary                         54397 non-null  object \n",
      " 6   Space                           39155 non-null  object \n",
      " 7   Description                     56555 non-null  object \n",
      " 8   Experiences Offered             56562 non-null  object \n",
      " 9   Neighborhood Overview           33785 non-null  object \n",
      " 10  Notes                           18012 non-null  object \n",
      " 11  Transit                         36237 non-null  object \n",
      " 12  Access                          28767 non-null  object \n",
      " 13  Interaction                     27070 non-null  object \n",
      " 14  House Rules                     30201 non-null  object \n",
      " 15  Thumbnail Url                   37408 non-null  object \n",
      " 16  Medium Url                      37408 non-null  object \n",
      " 17  Picture Url                     0 non-null      float64\n",
      " 18  XL Picture Url                  37408 non-null  object \n",
      " 19  Host ID                         56562 non-null  int64  \n",
      " 20  Host URL                        56562 non-null  object \n",
      " 21  Host Name                       56551 non-null  object \n",
      " 22  Host Since                      56551 non-null  object \n",
      " 23  Host Location                   56356 non-null  object \n",
      " 24  Host About                      30823 non-null  object \n",
      " 25  Host Response Time              37832 non-null  object \n",
      " 26  Host Response Rate              37832 non-null  float64\n",
      " 27  Host Acceptance Rate            24 non-null     object \n",
      " 28  Host Thumbnail Url              56551 non-null  object \n",
      " 29  Host Picture Url                56551 non-null  object \n",
      " 30  Host Neighbourhood              49524 non-null  object \n",
      " 31  Host Listings Count             56551 non-null  float64\n",
      " 32  Host Total Listings Count       56551 non-null  float64\n",
      " 33  Host Verifications              56499 non-null  object \n",
      " 34  Street                          56562 non-null  object \n",
      " 35  Neighbourhood                   48441 non-null  object \n",
      " 36  Neighbourhood Cleansed          56562 non-null  object \n",
      " 37  Neighbourhood Group Cleansed    0 non-null      float64\n",
      " 38  City                            56532 non-null  object \n",
      " 39  State                           56489 non-null  object \n",
      " 40  Zipcode                         55821 non-null  object \n",
      " 41  Market                          56444 non-null  object \n",
      " 42  Smart Location                  56562 non-null  object \n",
      " 43  Country Code                    56562 non-null  object \n",
      " 44  Country                         56562 non-null  object \n",
      " 45  Latitude                        56562 non-null  float64\n",
      " 46  Longitude                       56562 non-null  float64\n",
      " 47  Property Type                   56562 non-null  object \n",
      " 48  Room Type                       56562 non-null  object \n",
      " 49  Accommodates                    56562 non-null  int64  \n",
      " 50  Bathrooms                       56378 non-null  float64\n",
      " 51  Bedrooms                        56428 non-null  float64\n",
      " 52  Beds                            56487 non-null  float64\n",
      " 53  Bed Type                        56562 non-null  object \n",
      " 54  Amenities                       56134 non-null  object \n",
      " 55  Square Feet                     2115 non-null   float64\n",
      " 56  Price                           56505 non-null  float64\n",
      " 57  Weekly Price                    16328 non-null  float64\n",
      " 58  Monthly Price                   12348 non-null  float64\n",
      " 59  Security Deposit                31127 non-null  float64\n",
      " 60  Cleaning Fee                    35800 non-null  float64\n",
      " 61  Guests Included                 56562 non-null  int64  \n",
      " 62  Extra People                    56562 non-null  int64  \n",
      " 63  Minimum Nights                  56562 non-null  int64  \n",
      " 64  Maximum Nights                  56562 non-null  int64  \n",
      " 65  Calendar Updated                56562 non-null  object \n",
      " 66  Has Availability                0 non-null      float64\n",
      " 67  Availability 30                 56562 non-null  int64  \n",
      " 68  Availability 60                 56562 non-null  int64  \n",
      " 69  Availability 90                 56562 non-null  int64  \n",
      " 70  Availability 365                56562 non-null  int64  \n",
      " 71  Calendar last Scraped           56562 non-null  object \n",
      " 72  Number of Reviews               56562 non-null  int64  \n",
      " 73  First Review                    42376 non-null  object \n",
      " 74  Last Review                     42378 non-null  object \n",
      " 75  Review Scores Rating            41559 non-null  float64\n",
      " 76  Review Scores Accuracy          41451 non-null  float64\n",
      " 77  Review Scores Cleanliness       41478 non-null  float64\n",
      " 78  Review Scores Checkin           41425 non-null  float64\n",
      " 79  Review Scores Communication     41470 non-null  float64\n",
      " 80  Review Scores Location          41436 non-null  float64\n",
      " 81  Review Scores Value             41428 non-null  float64\n",
      " 82  License                         2 non-null      object \n",
      " 83  Jurisdiction Names              55544 non-null  object \n",
      " 84  Cancellation Policy             56562 non-null  object \n",
      " 85  Calculated host listings count  56562 non-null  int64  \n",
      " 86  Reviews per Month               42376 non-null  float64\n",
      " 87  Geolocation                     56562 non-null  object \n",
      " 88  Features                        56539 non-null  object \n",
      "dtypes: float64(25), int64(14), object(50)\n",
      "memory usage: 38.4+ MB\n"
     ]
    }
   ],
   "source": [
    "data.info()"
   ]
  },
  {
   "cell_type": "code",
   "execution_count": 211,
   "metadata": {},
   "outputs": [
    {
     "name": "stdout",
     "output_type": "stream",
     "text": [
      "['Notes', 'Interaction', 'Picture Url', 'Host Acceptance Rate', 'Neighbourhood Group Cleansed', 'Square Feet', 'Weekly Price', 'Monthly Price', 'Has Availability', 'License', 'Host ID', 'Host URL', 'Host Name', 'Host Since', 'Host Location', 'Host About', 'Host Response Time', 'Host Response Rate', 'Host Acceptance Rate', 'Host Thumbnail Url', 'Host Picture Url', 'Host Neighbourhood', 'Host Listings Count', 'Host Total Listings Count', 'Host Verifications', 'Scrape ID', 'Last Scraped', 'Summary', 'Space', 'Description', 'Neighbourhood', 'Neighbourhood Group Cleansed', 'Neighborhood Overview', 'Name', 'Listing Url', 'Transit', 'Access', 'Interaction', 'House Rules', 'Thumbnail Url', 'Medium Url', 'XL Picture Url', 'Street', 'State', 'Zipcode', 'Market', 'Smart Location', 'Latitude', 'Longitude', 'Country', 'Beds', 'Bed Type', 'Experiences Offered', 'Cleaning Fee', 'Guests Included', 'Extra People', 'Minimum Nights', 'Maximum Nights', 'Calendar Updated', 'Calendar last Scraped', 'Number of Reviews', 'First Review', 'Last Review', 'Reviews per Month', 'Review Scores Checkin', 'Jurisdiction Names', 'Cancellation Policy', 'Calculated host listings count', 'Geolocation', 'Features'] 70\n"
     ]
    }
   ],
   "source": [
    "cols_to_drop = []\n",
    "\n",
    "# Pick out columns with missing values more than half the size of the dataset\n",
    "for col in data.columns:\n",
    "    if data[col].isnull().sum() > len(data)/2:\n",
    "        cols_to_drop.append(col)\n",
    "        \n",
    "# Drop all the columns that start with 'Host'\n",
    "for col in data.columns:\n",
    "    if col.startswith('Host'): cols_to_drop.append(col)\n",
    "        \n",
    "for x in ['Scrape ID', 'Last Scraped', 'Summary', 'Space', 'Description', 'Neighbourhood', 'Neighbourhood Group Cleansed', 'Neighborhood Overview']: cols_to_drop.append(x)\n",
    "for x in ['Name', 'Listing Url', 'Transit', 'Access', 'Interaction', 'House Rules', 'Thumbnail Url', 'Medium Url', 'XL Picture Url']: cols_to_drop.append(x)\n",
    "for x in ['Street', 'State', 'Zipcode', 'Market', 'Smart Location', 'Latitude', 'Longitude', 'Country', 'Beds', 'Bed Type']: cols_to_drop.append(x)\n",
    "for x in ['Experiences Offered', 'Cleaning Fee', 'Guests Included', 'Extra People', 'Minimum Nights', 'Maximum Nights']: cols_to_drop.append(x)\n",
    "for x in ['Calendar Updated', 'Calendar last Scraped', 'Number of Reviews', 'First Review', 'Last Review', 'Reviews per Month']: cols_to_drop.append(x)\n",
    "for x in ['Review Scores Checkin', 'Jurisdiction Names', 'Cancellation Policy', 'Calculated host listings count']: cols_to_drop.append(x)\n",
    "for x in ['Geolocation', 'Features']: cols_to_drop.append(x)\n",
    "print(cols_to_drop, len(cols_to_drop))"
   ]
  },
  {
   "cell_type": "code",
   "execution_count": 212,
   "metadata": {},
   "outputs": [
    {
     "name": "stdout",
     "output_type": "stream",
     "text": [
      "<class 'pandas.core.frame.DataFrame'>\n",
      "RangeIndex: 56562 entries, 0 to 56561\n",
      "Data columns (total 22 columns):\n",
      " #   Column                       Non-Null Count  Dtype  \n",
      "---  ------                       --------------  -----  \n",
      " 0   ID                           56562 non-null  int64  \n",
      " 1   Neighbourhood Cleansed       56562 non-null  object \n",
      " 2   City                         56532 non-null  object \n",
      " 3   Country Code                 56562 non-null  object \n",
      " 4   Property Type                56562 non-null  object \n",
      " 5   Room Type                    56562 non-null  object \n",
      " 6   Accommodates                 56562 non-null  int64  \n",
      " 7   Bathrooms                    56378 non-null  float64\n",
      " 8   Bedrooms                     56428 non-null  float64\n",
      " 9   Amenities                    56134 non-null  object \n",
      " 10  Price                        56505 non-null  float64\n",
      " 11  Security Deposit             31127 non-null  float64\n",
      " 12  Availability 30              56562 non-null  int64  \n",
      " 13  Availability 60              56562 non-null  int64  \n",
      " 14  Availability 90              56562 non-null  int64  \n",
      " 15  Availability 365             56562 non-null  int64  \n",
      " 16  Review Scores Rating         41559 non-null  float64\n",
      " 17  Review Scores Accuracy       41451 non-null  float64\n",
      " 18  Review Scores Cleanliness    41478 non-null  float64\n",
      " 19  Review Scores Communication  41470 non-null  float64\n",
      " 20  Review Scores Location       41436 non-null  float64\n",
      " 21  Review Scores Value          41428 non-null  float64\n",
      "dtypes: float64(10), int64(6), object(6)\n",
      "memory usage: 9.5+ MB\n"
     ]
    }
   ],
   "source": [
    "data = data.drop(cols_to_drop, axis=1)\n",
    "data.info()"
   ]
  },
  {
   "cell_type": "code",
   "execution_count": 213,
   "metadata": {},
   "outputs": [],
   "source": [
    "data = data.dropna()"
   ]
  },
  {
   "cell_type": "code",
   "execution_count": 214,
   "metadata": {},
   "outputs": [],
   "source": [
    "# Remove 'translation missing:' tags in the amentity column of the dataset\n",
    "data['Amenities'] = data['Amenities'].str.replace(',translation missing: en.hosting_amenity_49', '')\n",
    "data['Amenities'] = data['Amenities'].str.replace('translation missing: en.hosting_amenity_49,', '')\n",
    "data['Amenities'] = data['Amenities'].str.replace(',translation missing: en.hosting_amenity_50', '')\n",
    "data['Amenities'] = data['Amenities'].str.replace('translation missing: en.hosting_amenity_50,', '')"
   ]
  },
  {
   "cell_type": "code",
   "execution_count": 215,
   "metadata": {},
   "outputs": [],
   "source": [
    "# If the neighbourhood cleansed column has a integer value, drop the record\n",
    "def convert_num_nan(x):\n",
    "    if x.isnumeric(): return np.nan\n",
    "    return x\n",
    "\n",
    "data['Neighbourhood Cleansed'] = data['Neighbourhood Cleansed'].apply(convert_num_nan)\n",
    "data = data.dropna()"
   ]
  },
  {
   "cell_type": "code",
   "execution_count": 216,
   "metadata": {},
   "outputs": [],
   "source": [
    "# Normalise city names (avoid duplicated names)\n",
    "def normalise_cities(x: str):\n",
    "    x = x.lower()\n",
    "    if \",\" in x: x = x.split(\",\")[1].strip()\n",
    "    pattern = re.compile(r'[^\\u0000-\\u007F0-9\\s]')\n",
    "    x = pattern.sub('', x)\n",
    "    if x == COUNTRY_CODE.lower(): return None\n",
    "    if x == '' or x.isspace(): return None\n",
    "    if COUNTRY_CODE == 'FR' and 'paris' in x: return 'Paris'\n",
    "    return \" \".join(word.strip().capitalize() for word in x.split(' '))\n",
    "\n",
    "data['City'] = data['City'].apply(normalise_cities)\n",
    "data = data.dropna()"
   ]
  },
  {
   "cell_type": "code",
   "execution_count": 217,
   "metadata": {},
   "outputs": [
    {
     "data": {
      "text/plain": [
       "array(['Paris', 'Montrouge', 'Boulogne-billancourt', 'Saint-mand',\n",
       "       'Charenton-le-pont', 'Neuilly-sur-seine', 'Levallois-perret',\n",
       "       'Le Pr-saint-gervais', 'Issy-les-moulineaux', 'Vincennes',\n",
       "       'Aubervilliers', 'Issy Les Moulineaux', 'Le Kremlin-bictre',\n",
       "       'Le-de-france', 'Nogent-sur-marne', 'Gaillard',\n",
       "       'Rer D  Une Statio Du Chatelt', 'Malakoff', 'Deuil-la-barre',\n",
       "       'Parigi', 'Saint-ouen', 'Saint-julien-en-genevois',\n",
       "       'Collonges-sous-salve', 'Fontenay-sous-bois', 'Viry', 'Clichy',\n",
       "       'Pars', 'Vanves', 'Pris', 'Les Lilas', 'Gentilly', 'Pantin',\n",
       "       'Parijs', 'Neuilly Sur Seine', 'Joinville-le-pont',\n",
       "       'Saint-maurice', 'Ivry-sur-seine', 'Montreuil', 'Saint-denis'],\n",
       "      dtype=object)"
      ]
     },
     "execution_count": 217,
     "metadata": {},
     "output_type": "execute_result"
    }
   ],
   "source": [
    "data['City'].unique()"
   ]
  },
  {
   "cell_type": "code",
   "execution_count": 218,
   "metadata": {},
   "outputs": [],
   "source": [
    "if len(data) > 50000: data = data.sample(50000)\n",
    "data.to_csv(filename + '-clean.csv', index=False)"
   ]
  },
  {
   "cell_type": "code",
   "execution_count": 219,
   "metadata": {},
   "outputs": [
    {
     "name": "stdout",
     "output_type": "stream",
     "text": [
      "<class 'pandas.core.frame.DataFrame'>\n",
      "Index: 24653 entries, 0 to 56561\n",
      "Data columns (total 22 columns):\n",
      " #   Column                       Non-Null Count  Dtype  \n",
      "---  ------                       --------------  -----  \n",
      " 0   ID                           24653 non-null  int64  \n",
      " 1   Neighbourhood Cleansed       24653 non-null  object \n",
      " 2   City                         24653 non-null  object \n",
      " 3   Country Code                 24653 non-null  object \n",
      " 4   Property Type                24653 non-null  object \n",
      " 5   Room Type                    24653 non-null  object \n",
      " 6   Accommodates                 24653 non-null  int64  \n",
      " 7   Bathrooms                    24653 non-null  float64\n",
      " 8   Bedrooms                     24653 non-null  float64\n",
      " 9   Amenities                    24653 non-null  object \n",
      " 10  Price                        24653 non-null  float64\n",
      " 11  Security Deposit             24653 non-null  float64\n",
      " 12  Availability 30              24653 non-null  int64  \n",
      " 13  Availability 60              24653 non-null  int64  \n",
      " 14  Availability 90              24653 non-null  int64  \n",
      " 15  Availability 365             24653 non-null  int64  \n",
      " 16  Review Scores Rating         24653 non-null  float64\n",
      " 17  Review Scores Accuracy       24653 non-null  float64\n",
      " 18  Review Scores Cleanliness    24653 non-null  float64\n",
      " 19  Review Scores Communication  24653 non-null  float64\n",
      " 20  Review Scores Location       24653 non-null  float64\n",
      " 21  Review Scores Value          24653 non-null  float64\n",
      "dtypes: float64(10), int64(6), object(6)\n",
      "memory usage: 4.3+ MB\n"
     ]
    }
   ],
   "source": [
    "data.info()"
   ]
  }
 ],
 "metadata": {
  "kernelspec": {
   "display_name": "Python 3",
   "language": "python",
   "name": "python3"
  },
  "language_info": {
   "codemirror_mode": {
    "name": "ipython",
    "version": 3
   },
   "file_extension": ".py",
   "mimetype": "text/x-python",
   "name": "python",
   "nbconvert_exporter": "python",
   "pygments_lexer": "ipython3",
   "version": "3.10.11"
  }
 },
 "nbformat": 4,
 "nbformat_minor": 2
}
